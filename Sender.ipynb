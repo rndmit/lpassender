{
 "cells": [
  {
   "cell_type": "code",
   "execution_count": null,
   "metadata": {},
   "outputs": [],
   "source": [
    "import typing\n",
    "import csv\n",
    "import json\n",
    "import requests\n",
    "import time\n",
    "from email_validator import validate_email, EmailNotValidError"
   ]
  },
  {
   "cell_type": "code",
   "execution_count": null,
   "metadata": {},
   "outputs": [],
   "source": [
    "CSV_FILENAME = 'some.csv'\n",
    "\n",
    "FROM_EMAIL = 'someemail'\n",
    "FROM_NAME = 'somename'\n",
    "EMAIL_SUBJECT = 'somesubject'"
   ]
  },
  {
   "cell_type": "code",
   "execution_count": null,
   "metadata": {},
   "outputs": [],
   "source": [
    "# Сюда пихаем аттачменты, кодированные в base64\n",
    "ATT_1 = 'somebase64attachment'"
   ]
  },
  {
   "cell_type": "code",
   "execution_count": null,
   "metadata": {},
   "outputs": [],
   "source": [
    "'''\n",
    "Класс, описывающий вхождение в таблицу\n",
    "'''\n",
    "class Entry():\n",
    "    name = str()\n",
    "    email = str()\n",
    "    login = str()\n",
    "    password = str()\n",
    "    is_valid = bool()\n",
    "    \n",
    "    def __init__(self, name, email, login, password):\n",
    "        try:\n",
    "            v = validate_email(email)\n",
    "        except EmailNotValidError as e:\n",
    "            is_valid = False\n",
    "            self.email = email\n",
    "        else:\n",
    "            self.is_valid = True\n",
    "            self.email = email\n",
    "        finally:\n",
    "            self.name = name\n",
    "            self.password = password\n",
    "            if login != None:\n",
    "                self.login = login\n",
    "            else:\n",
    "                self.is_valid = False\n",
    "    \n",
    "    def __str__(self):\n",
    "        return f'Entry for {self.email} is {\"valid\" if self.is_valid else \"not valid\"}'"
   ]
  },
  {
   "cell_type": "code",
   "execution_count": null,
   "metadata": {},
   "outputs": [],
   "source": [
    "'''\n",
    "Функция для загрузки получателей из csv\n",
    "Возвращает массив объектов класса Entry\n",
    "'''\n",
    "def load_recipients(filename):\n",
    "    recipients = []\n",
    "\n",
    "    fieldnames = ['name','email', 'login', 'password']\n",
    "    with open(filename, newline='') as csvfile:\n",
    "        reader = csv.DictReader(csvfile, delimiter=';', fieldnames=fieldnames)\n",
    "        for row in reader:\n",
    "            recipient = Entry(\n",
    "                name=row['name'],\n",
    "                email=row['email'],\n",
    "                login=row['login'],\n",
    "                password=row['password']\n",
    "            )\n",
    "            recipients.append(recipient)\n",
    "    return recipients"
   ]
  },
  {
   "cell_type": "code",
   "execution_count": null,
   "metadata": {},
   "outputs": [],
   "source": [
    "'''\n",
    "Класс, описывающий сообщение\n",
    "'''\n",
    "class Message():\n",
    "    from_email = FROM_EMAIL\n",
    "    from_name = FROM_NAME\n",
    "    subject = EMAIL_SUBJECT\n",
    "    \n",
    "    recipient = None\n",
    "    is_sent = bool()\n",
    "    \n",
    "    def __init__(self, entry):\n",
    "        # Если запись помечена как валидная\n",
    "        if entry.is_valid:\n",
    "            self.recipient = entry\n",
    "        else:\n",
    "            raise ValueError()\n",
    "\n",
    "    def generate_body(self):\n",
    "        return (\n",
    "            # Здесь шаблон письма, можно подставить любые переменные объекта recipient\n",
    "            f'Some template here'\n",
    "        )\n",
    "    def to_dict(self):\n",
    "        return {\n",
    "            \"from_email\": self.from_email,\n",
    "            \"from_name\": self.from_name,\n",
    "            \"subject\": self.subject,\n",
    "            \"recipients\": [{\"email\": self.recipient.email}],\n",
    "            \"body\": {\n",
    "                \"html\": self.generate_body(),\n",
    "            },\n",
    "            \"attachments\": [\n",
    "                    {\n",
    "                        \"type\": \"application/pdf\",\n",
    "                        \"name\": \"attachment_name.pdf\",\n",
    "                        \"content\": ATT_INSTR_V2\n",
    "                    },\n",
    "            ],\n",
    "        }"
   ]
  },
  {
   "cell_type": "code",
   "execution_count": null,
   "metadata": {
    "scrolled": true
   },
   "outputs": [],
   "source": [
    "messages = []\n",
    "recipients = load_recipients(CSV_FILENAME)\n",
    "#recipients[0].is_valid = False\n",
    "#recipients[1].is_valid = False\n",
    "for i in recipients:\n",
    "    try:\n",
    "        message = Message(i)\n",
    "    except ValueError:\n",
    "        print(f'{i.email} is invalid, email will not be sent')\n",
    "    else:\n",
    "        messages.append(Message(i))"
   ]
  },
  {
   "cell_type": "code",
   "execution_count": null,
   "metadata": {},
   "outputs": [],
   "source": [
    "class UnioneClient():\n",
    "    api_endpoint = 'https://one.unisender.com'\n",
    "    \n",
    "    api_key = str()\n",
    "    username = str()\n",
    "    \n",
    "    def __init__(self, api_key, username):\n",
    "        self.api_key = api_key\n",
    "        self.username = username\n",
    "        \n",
    "    def send(self, message: dict):\n",
    "        url = f'{self.api_endpoint}/ru/transactional/api/v1/email/send.json'\n",
    "        payload = {\n",
    "            \"api_key\": self.api_key,\n",
    "            \"username\": self.username,\n",
    "            \"message\": message\n",
    "        }\n",
    "        \n",
    "        req = json.dumps(payload, indent=4, ensure_ascii=False)\n",
    "        \n",
    "        r = requests.post(url, json=payload)\n",
    "\n",
    "        return r"
   ]
  },
  {
   "cell_type": "code",
   "execution_count": null,
   "metadata": {},
   "outputs": [],
   "source": [
    "client = UnioneClient('unioneapikey', 'unioneusername')"
   ]
  },
  {
   "cell_type": "code",
   "execution_count": null,
   "metadata": {},
   "outputs": [],
   "source": [
    "responces = []\n",
    "for message in messages:\n",
    "    a = client.send(message.to_dict())\n",
    "    if a.status_code == requests.codes.ok:\n",
    "        print('Sent')\n",
    "    else:\n",
    "        print('Error')\n",
    "    responces.append(a)"
   ]
  },
  {
   "cell_type": "code",
   "execution_count": null,
   "metadata": {},
   "outputs": [],
   "source": [
    "responces_jsons = []\n",
    "for i in responces:\n",
    "    responces_jsons.append(i.text + '\\n')"
   ]
  },
  {
   "cell_type": "code",
   "execution_count": null,
   "metadata": {},
   "outputs": [],
   "source": [
    "with open('results.log', 'a') as logfile:\n",
    "    for i in responces_jsons:\n",
    "        logfile.write(i)"
   ]
  }
 ],
 "metadata": {
  "kernelspec": {
   "display_name": "Python 3",
   "language": "python",
   "name": "python3"
  },
  "language_info": {
   "codemirror_mode": {
    "name": "ipython",
    "version": 3
   },
   "file_extension": ".py",
   "mimetype": "text/x-python",
   "name": "python",
   "nbconvert_exporter": "python",
   "pygments_lexer": "ipython3",
   "version": "3.7.6"
  }
 },
 "nbformat": 4,
 "nbformat_minor": 4
}
